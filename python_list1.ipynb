{
 "cells": [
  {
   "cell_type": "markdown",
   "metadata": {},
   "source": [
    "# Python list\n",
    "\n",
    "## Problem Statement : Reverse a list of strings with elements reverse \n",
    "## also"
   ]
  },
  {
   "cell_type": "code",
   "execution_count": 4,
   "metadata": {},
   "outputs": [
    {
     "data": {
      "text/plain": [
       "['Ituram', 'Adnoh', 'Losarea', 'Adiebuz', 'Gnik', 'Tnediserp']"
      ]
     },
     "execution_count": 4,
     "metadata": {},
     "output_type": "execute_result"
    }
   ],
   "source": [
    "s = ['President','King','Zubeida','aerasol','honda','maruti']\n",
    "\n",
    "def rev_list_string(l):\n",
    "    rev_stringlist = []\n",
    "    for i in range(len(l)):\n",
    "        pop_item = l.pop()\n",
    "        rev_stringlist.append(pop_item[::-1])\n",
    "        \n",
    "    return rev_stringlist\n",
    "\n",
    "rev_list_string(s)"
   ]
  },
  {
   "cell_type": "markdown",
   "metadata": {},
   "source": [
    "## Problem : Reverse list should have First letter capital"
   ]
  },
  {
   "cell_type": "code",
   "execution_count": 5,
   "metadata": {},
   "outputs": [
    {
     "data": {
      "text/plain": [
       "['Emirp', 'Raatava', 'Dnob', 'Nattahnam', 'Yeksihw']"
      ]
     },
     "execution_count": 5,
     "metadata": {},
     "output_type": "execute_result"
    }
   ],
   "source": [
    "s = ['Whiskey','Manhattan','Bond','Avataar','Prime']\n",
    "\n",
    "def rev_list_string(l):\n",
    "    rev_stringlist = []\n",
    "    for i in range(len(l)):\n",
    "        pop_item = l.pop()\n",
    "        rev_stringlist.append(pop_item[::-1].title())\n",
    "        \n",
    "    return rev_stringlist\n",
    "\n",
    "rev_list_string(s)"
   ]
  },
  {
   "cell_type": "code",
   "execution_count": null,
   "metadata": {},
   "outputs": [],
   "source": []
  }
 ],
 "metadata": {
  "kernelspec": {
   "display_name": "Python 3",
   "language": "python",
   "name": "python3"
  },
  "language_info": {
   "codemirror_mode": {
    "name": "ipython",
    "version": 3
   },
   "file_extension": ".py",
   "mimetype": "text/x-python",
   "name": "python",
   "nbconvert_exporter": "python",
   "pygments_lexer": "ipython3",
   "version": "3.7.3"
  }
 },
 "nbformat": 4,
 "nbformat_minor": 2
}
