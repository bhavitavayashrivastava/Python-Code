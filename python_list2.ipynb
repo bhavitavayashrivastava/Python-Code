{
 "cells": [
  {
   "cell_type": "markdown",
   "metadata": {},
   "source": [
    "# Problem : Filter out odd and even numbers in a list and \n",
    "# make it nested list of evens and odds\n"
   ]
  },
  {
   "cell_type": "code",
   "execution_count": 1,
   "metadata": {},
   "outputs": [
    {
     "name": "stdout",
     "output_type": "stream",
     "text": [
      "[[1, 3, 5, 7, 9, 11, 17, 13, 15], [2, 4, 6, 8, 10, 12, 14, 16]]\n"
     ]
    }
   ],
   "source": [
    "numbers = [1,2,3,4,5,6,7,8,9,10,11,12,17,13,14,15,16]\n",
    "\n",
    "def filter_out(l):\n",
    "    num1 = []\n",
    "    num2 = []\n",
    "    for i in l:\n",
    "        if i%2==0:\n",
    "            num1.append(i)\n",
    "        else:\n",
    "            num2.append(i)\n",
    "    output = [num2,num1]        \n",
    "    return output\n",
    "\n",
    "print(filter_out(numbers))"
   ]
  },
  {
   "cell_type": "markdown",
   "metadata": {},
   "source": [
    "# Problem : Print common numbers of two list "
   ]
  },
  {
   "cell_type": "code",
   "execution_count": 2,
   "metadata": {},
   "outputs": [
    {
     "data": {
      "text/plain": [
       "[2, 3, 4, 11, 12]"
      ]
     },
     "execution_count": 2,
     "metadata": {},
     "output_type": "execute_result"
    }
   ],
   "source": [
    "x = [2,3,4,5,6,7,10,11,12,13,14]\n",
    "y = [11,12,20,23,24,35,2,3,4,100]\n",
    "\n",
    "def common_num(l1,l2):\n",
    "    output = []\n",
    "    for i in l1:\n",
    "        if i in l2:\n",
    "            output.append(i)\n",
    "    return output\n",
    "\n",
    "common_num(x,y)"
   ]
  },
  {
   "cell_type": "code",
   "execution_count": null,
   "metadata": {},
   "outputs": [],
   "source": []
  }
 ],
 "metadata": {
  "kernelspec": {
   "display_name": "Python 3",
   "language": "python",
   "name": "python3"
  },
  "language_info": {
   "codemirror_mode": {
    "name": "ipython",
    "version": 3
   },
   "file_extension": ".py",
   "mimetype": "text/x-python",
   "name": "python",
   "nbconvert_exporter": "python",
   "pygments_lexer": "ipython3",
   "version": "3.7.3"
  }
 },
 "nbformat": 4,
 "nbformat_minor": 2
}
